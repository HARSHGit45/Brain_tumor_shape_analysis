{
 "cells": [
  {
   "cell_type": "code",
   "execution_count": 24,
   "id": "fda68118-95cf-4da6-a383-99b970c250de",
   "metadata": {},
   "outputs": [
    {
     "name": "stdout",
     "output_type": "stream",
     "text": [
      "Epoch 1/50\n",
      "1432/1432 [==============================] - 7s 4ms/step - loss: 0.3594 - accuracy: 0.8385 - val_loss: 0.2408 - val_accuracy: 0.8980\n",
      "Epoch 2/50\n",
      "1432/1432 [==============================] - 5s 3ms/step - loss: 0.2576 - accuracy: 0.8933 - val_loss: 0.1960 - val_accuracy: 0.9210\n",
      "Epoch 3/50\n",
      "1432/1432 [==============================] - 5s 3ms/step - loss: 0.2163 - accuracy: 0.9168 - val_loss: 0.2820 - val_accuracy: 0.9027\n",
      "Epoch 4/50\n",
      "1432/1432 [==============================] - 5s 3ms/step - loss: 0.1960 - accuracy: 0.9323 - val_loss: 0.1504 - val_accuracy: 0.9517\n",
      "Epoch 5/50\n",
      "1432/1432 [==============================] - 5s 3ms/step - loss: 0.1654 - accuracy: 0.9445 - val_loss: 0.1292 - val_accuracy: 0.9500\n",
      "Epoch 6/50\n",
      "1432/1432 [==============================] - 5s 3ms/step - loss: 0.1744 - accuracy: 0.9474 - val_loss: 0.1227 - val_accuracy: 0.9551\n",
      "Epoch 7/50\n",
      "1432/1432 [==============================] - 5s 3ms/step - loss: 0.1658 - accuracy: 0.9520 - val_loss: 0.1476 - val_accuracy: 0.9570\n",
      "Epoch 8/50\n",
      "1432/1432 [==============================] - 5s 4ms/step - loss: 0.1588 - accuracy: 0.9556 - val_loss: 0.3672 - val_accuracy: 0.9372\n",
      "Epoch 9/50\n",
      "1432/1432 [==============================] - 5s 4ms/step - loss: 0.1461 - accuracy: 0.9603 - val_loss: 0.1047 - val_accuracy: 0.9670\n",
      "Epoch 10/50\n",
      "1432/1432 [==============================] - 5s 3ms/step - loss: 0.1562 - accuracy: 0.9614 - val_loss: 0.2426 - val_accuracy: 0.9393\n",
      "Epoch 11/50\n",
      "1432/1432 [==============================] - 5s 4ms/step - loss: 0.1361 - accuracy: 0.9643 - val_loss: 0.0909 - val_accuracy: 0.9666\n",
      "Epoch 12/50\n",
      "1432/1432 [==============================] - 5s 3ms/step - loss: 0.1314 - accuracy: 0.9658 - val_loss: 0.0734 - val_accuracy: 0.9782\n",
      "Epoch 13/50\n",
      "1432/1432 [==============================] - 6s 4ms/step - loss: 0.1539 - accuracy: 0.9642 - val_loss: 0.0736 - val_accuracy: 0.9776\n",
      "Epoch 14/50\n",
      "1432/1432 [==============================] - 5s 3ms/step - loss: 0.1334 - accuracy: 0.9660 - val_loss: 0.0723 - val_accuracy: 0.9756\n",
      "Epoch 15/50\n",
      "1432/1432 [==============================] - 5s 3ms/step - loss: 0.1018 - accuracy: 0.9698 - val_loss: 0.0622 - val_accuracy: 0.9780\n",
      "Epoch 16/50\n",
      "1432/1432 [==============================] - 5s 3ms/step - loss: 0.1040 - accuracy: 0.9724 - val_loss: 0.0503 - val_accuracy: 0.9859\n",
      "Epoch 17/50\n",
      "1432/1432 [==============================] - 5s 3ms/step - loss: 0.0912 - accuracy: 0.9731 - val_loss: 0.1076 - val_accuracy: 0.9699\n",
      "Epoch 18/50\n",
      "1432/1432 [==============================] - 5s 3ms/step - loss: 0.0708 - accuracy: 0.9789 - val_loss: 0.0486 - val_accuracy: 0.9783\n",
      "Epoch 19/50\n",
      "1432/1432 [==============================] - 5s 3ms/step - loss: 0.0831 - accuracy: 0.9777 - val_loss: 0.0495 - val_accuracy: 0.9813\n",
      "Epoch 20/50\n",
      "1432/1432 [==============================] - 4s 3ms/step - loss: 0.0546 - accuracy: 0.9845 - val_loss: 0.0383 - val_accuracy: 0.9914\n",
      "Epoch 21/50\n",
      "1432/1432 [==============================] - 5s 3ms/step - loss: 0.0830 - accuracy: 0.9744 - val_loss: 0.0543 - val_accuracy: 0.9853\n",
      "Epoch 22/50\n",
      "1432/1432 [==============================] - 5s 3ms/step - loss: 0.0785 - accuracy: 0.9759 - val_loss: 0.0480 - val_accuracy: 0.9901\n",
      "Epoch 23/50\n",
      "1432/1432 [==============================] - 5s 3ms/step - loss: 0.0735 - accuracy: 0.9800 - val_loss: 0.0669 - val_accuracy: 0.9776\n",
      "Epoch 24/50\n",
      "1432/1432 [==============================] - 5s 3ms/step - loss: 0.0533 - accuracy: 0.9833 - val_loss: 0.0235 - val_accuracy: 0.9976\n",
      "Epoch 25/50\n",
      "1432/1432 [==============================] - 5s 3ms/step - loss: 0.0610 - accuracy: 0.9820 - val_loss: 0.0387 - val_accuracy: 0.9852\n",
      "Epoch 26/50\n",
      "1432/1432 [==============================] - 5s 3ms/step - loss: 0.0703 - accuracy: 0.9845 - val_loss: 0.0274 - val_accuracy: 0.9928\n",
      "Epoch 27/50\n",
      "1432/1432 [==============================] - 5s 3ms/step - loss: 0.0651 - accuracy: 0.9835 - val_loss: 0.0384 - val_accuracy: 0.9952\n",
      "Epoch 28/50\n",
      "1432/1432 [==============================] - 5s 3ms/step - loss: 0.0399 - accuracy: 0.9883 - val_loss: 0.0214 - val_accuracy: 0.9957\n",
      "Epoch 29/50\n",
      "1432/1432 [==============================] - 6s 4ms/step - loss: 0.0612 - accuracy: 0.9816 - val_loss: 0.0217 - val_accuracy: 0.9969\n",
      "Epoch 30/50\n",
      "1432/1432 [==============================] - 5s 3ms/step - loss: 0.0834 - accuracy: 0.9767 - val_loss: 0.1754 - val_accuracy: 0.9532\n",
      "Epoch 31/50\n",
      "1432/1432 [==============================] - 5s 3ms/step - loss: 0.0528 - accuracy: 0.9845 - val_loss: 0.0612 - val_accuracy: 0.9759\n",
      "Epoch 32/50\n",
      "1432/1432 [==============================] - 5s 3ms/step - loss: 0.0565 - accuracy: 0.9820 - val_loss: 0.0185 - val_accuracy: 0.9976\n",
      "Epoch 33/50\n",
      "1432/1432 [==============================] - 5s 3ms/step - loss: 0.0642 - accuracy: 0.9816 - val_loss: 0.0549 - val_accuracy: 0.9797\n",
      "Epoch 34/50\n",
      "1432/1432 [==============================] - 5s 3ms/step - loss: 0.0632 - accuracy: 0.9829 - val_loss: 0.1294 - val_accuracy: 0.9620\n",
      "Epoch 35/50\n",
      "1432/1432 [==============================] - 5s 3ms/step - loss: 0.0406 - accuracy: 0.9890 - val_loss: 0.0223 - val_accuracy: 0.9935\n",
      "Epoch 36/50\n",
      "1432/1432 [==============================] - 6s 4ms/step - loss: 0.0552 - accuracy: 0.9856 - val_loss: 0.0279 - val_accuracy: 0.9971\n",
      "Epoch 37/50\n",
      "1432/1432 [==============================] - 5s 4ms/step - loss: 0.0466 - accuracy: 0.9868 - val_loss: 0.0771 - val_accuracy: 0.9785\n",
      "Epoch 38/50\n",
      "1432/1432 [==============================] - 5s 4ms/step - loss: 0.0473 - accuracy: 0.9855 - val_loss: 0.0760 - val_accuracy: 0.9689\n",
      "Epoch 39/50\n",
      "1432/1432 [==============================] - 6s 4ms/step - loss: 0.0489 - accuracy: 0.9842 - val_loss: 0.0267 - val_accuracy: 0.9944\n",
      "Epoch 40/50\n",
      "1432/1432 [==============================] - 6s 4ms/step - loss: 0.0359 - accuracy: 0.9882 - val_loss: 0.0405 - val_accuracy: 0.9848\n",
      "Epoch 41/50\n",
      "1432/1432 [==============================] - 5s 3ms/step - loss: 0.0470 - accuracy: 0.9833 - val_loss: 0.0174 - val_accuracy: 0.9965\n",
      "Epoch 42/50\n",
      "1432/1432 [==============================] - 5s 3ms/step - loss: 0.0446 - accuracy: 0.9845 - val_loss: 0.0313 - val_accuracy: 0.9867\n",
      "Epoch 43/50\n",
      "1432/1432 [==============================] - 5s 3ms/step - loss: 0.0410 - accuracy: 0.9863 - val_loss: 0.0155 - val_accuracy: 0.9960\n",
      "Epoch 44/50\n",
      "1432/1432 [==============================] - 5s 3ms/step - loss: 0.0807 - accuracy: 0.9849 - val_loss: 0.0325 - val_accuracy: 0.9928\n",
      "Epoch 45/50\n",
      "1432/1432 [==============================] - 5s 4ms/step - loss: 0.0357 - accuracy: 0.9893 - val_loss: 0.0384 - val_accuracy: 0.9831\n",
      "Epoch 46/50\n",
      "1432/1432 [==============================] - 5s 4ms/step - loss: 0.0858 - accuracy: 0.9820 - val_loss: 0.0348 - val_accuracy: 0.9988\n",
      "Epoch 47/50\n",
      "1432/1432 [==============================] - 5s 4ms/step - loss: 0.0332 - accuracy: 0.9932 - val_loss: 0.0270 - val_accuracy: 0.9920\n",
      "Epoch 48/50\n",
      "1432/1432 [==============================] - 5s 3ms/step - loss: 0.0964 - accuracy: 0.9793 - val_loss: 0.0414 - val_accuracy: 0.9929\n",
      "Epoch 49/50\n",
      "1432/1432 [==============================] - 5s 3ms/step - loss: 0.0391 - accuracy: 0.9926 - val_loss: 0.0265 - val_accuracy: 0.9953\n",
      "Epoch 50/50\n",
      "1432/1432 [==============================] - 5s 4ms/step - loss: 0.0343 - accuracy: 0.9902 - val_loss: 0.0206 - val_accuracy: 0.9928\n"
     ]
    },
    {
     "data": {
      "text/plain": [
       "<keras.src.callbacks.History at 0x21c5936b010>"
      ]
     },
     "execution_count": 24,
     "metadata": {},
     "output_type": "execute_result"
    }
   ],
   "source": [
    "import pandas as pd\n",
    "from sklearn.model_selection import train_test_split\n",
    "from sklearn.metrics import accuracy_score\n",
    "from tensorflow.keras.models import Sequential\n",
    "from tensorflow.keras.layers import Dense\n",
    "\n",
    "\n",
    "\n",
    "data = pd.read_csv('convexity_results.csv')  \n",
    "\n",
    "X = data.drop(['Patient_ID', 'Slice_Number', 'Output_Value'], axis=1)\n",
    "y = data['Output_Value']\n",
    "\n",
    "# Split the data into training and testing sets\n",
    "X_train, X_test, y_train, y_test = train_test_split(X, y, test_size=0.2, random_state=42)\n",
    "\n",
    "\n",
    "classifier = Sequential()\n",
    "\n",
    "\n",
    "classifier.add(Dense(units=6, input_dim=3, kernel_initializer='uniform', activation='relu'))\n",
    "classifier.add(Dense(units=6, kernel_initializer='uniform', activation='relu'))\n",
    "classifier.add(Dense(units=1, kernel_initializer='uniform', activation='sigmoid'))\n",
    "\n",
    "\n",
    "classifier.compile(optimizer = 'adam', loss = 'binary_crossentropy', metrics = ['accuracy'])\n",
    "\n",
    "# Fitting the ANN to the Training set\n",
    "classifier.fit(X_train, y_train, batch_size = 32,validation_split=0.2, epochs = 50)\n",
    "\n",
    "\n",
    "\n"
   ]
  },
  {
   "cell_type": "code",
   "execution_count": 25,
   "id": "7eb59722-69f9-41e1-87cc-0bffd741e2a9",
   "metadata": {},
   "outputs": [
    {
     "name": "stdout",
     "output_type": "stream",
     "text": [
      "448/448 [==============================] - 1s 2ms/step\n"
     ]
    }
   ],
   "source": [
    "pred=classifier.predict(X_test)"
   ]
  },
  {
   "cell_type": "code",
   "execution_count": 26,
   "id": "e657b90c-48d5-4bd2-b6b2-bf2103839e44",
   "metadata": {},
   "outputs": [],
   "source": [
    "pred = [1 if p > 0.5 else 0 for p in pred]"
   ]
  },
  {
   "cell_type": "code",
   "execution_count": 27,
   "id": "c798e562-f0c9-484b-9fbc-ea5496b64497",
   "metadata": {},
   "outputs": [
    {
     "name": "stdout",
     "output_type": "stream",
     "text": [
      "Accuracy: 0.992317362760162\n"
     ]
    }
   ],
   "source": [
    "accuracy = accuracy_score(y_test,pred)\n",
    "print(\"Accuracy:\", accuracy)\n"
   ]
  },
  {
   "cell_type": "code",
   "execution_count": 22,
   "id": "e984f0f3-7919-494b-a0dd-937eae4198fd",
   "metadata": {},
   "outputs": [
    {
     "name": "stderr",
     "output_type": "stream",
     "text": [
      "C:\\Users\\Harshal\\AppData\\Local\\Packages\\PythonSoftwareFoundation.Python.3.11_qbz5n2kfra8p0\\LocalCache\\local-packages\\Python311\\site-packages\\keras\\src\\engine\\training.py:3103: UserWarning: You are saving your model as an HDF5 file via `model.save()`. This file format is considered legacy. We recommend using instead the native Keras format, e.g. `model.save('my_model.keras')`.\n",
      "  saving_api.save_model(\n"
     ]
    }
   ],
   "source": [
    "classifier.save(\"Circular.h5\");"
   ]
  },
  {
   "cell_type": "code",
   "execution_count": null,
   "id": "bc64831a-92b2-451a-bbfb-65bd4f2829d8",
   "metadata": {},
   "outputs": [],
   "source": []
  }
 ],
 "metadata": {
  "kernelspec": {
   "display_name": "Python 3 (ipykernel)",
   "language": "python",
   "name": "python3"
  },
  "language_info": {
   "codemirror_mode": {
    "name": "ipython",
    "version": 3
   },
   "file_extension": ".py",
   "mimetype": "text/x-python",
   "name": "python",
   "nbconvert_exporter": "python",
   "pygments_lexer": "ipython3",
   "version": "3.11.9"
  }
 },
 "nbformat": 4,
 "nbformat_minor": 5
}
