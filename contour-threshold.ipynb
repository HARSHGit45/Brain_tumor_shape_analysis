{
 "cells": [
  {
   "cell_type": "code",
   "execution_count": 30,
   "id": "e5c15599-30d7-4fe3-bca1-705b958186a4",
   "metadata": {},
   "outputs": [],
   "source": [
    "import cv2"
   ]
  },
  {
   "cell_type": "code",
   "execution_count": 31,
   "id": "c18ded09-6dc1-4ab5-8604-f2306526c27e",
   "metadata": {},
   "outputs": [],
   "source": [
    "img=cv2.imread('bt.jpg')"
   ]
  },
  {
   "cell_type": "code",
   "execution_count": 32,
   "id": "96aabdf0-a861-468e-bc12-76862f581044",
   "metadata": {},
   "outputs": [],
   "source": [
    "grs=cv2.cvtColor(img,cv2.COLOR_BGR2GRAY)"
   ]
  },
  {
   "cell_type": "code",
   "execution_count": 33,
   "id": "233aad71-f258-4bc2-abdf-5745d1484985",
   "metadata": {},
   "outputs": [],
   "source": [
    "ret, thresh = cv2.threshold(grs, 127, 255, 0)"
   ]
  },
  {
   "cell_type": "code",
   "execution_count": 34,
   "id": "ad6de253-5876-45cd-8fc8-f3cac6de2178",
   "metadata": {},
   "outputs": [],
   "source": [
    " contours, hierarchy = cv2.findContours(thresh, cv2.RETR_TREE, cv2.CHAIN_APPROX_NONE)"
   ]
  },
  {
   "cell_type": "code",
   "execution_count": 35,
   "id": "a5eb1e3c-37a5-468a-b18f-f8bc3338f4e5",
   "metadata": {},
   "outputs": [
    {
     "data": {
      "text/plain": [
       "-1"
      ]
     },
     "execution_count": 35,
     "metadata": {},
     "output_type": "execute_result"
    }
   ],
   "source": [
    "cv2.drawContours(img, contours, -1, (0,255,0), 3)\n",
    "cv2.namedWindow('Image with Contours', cv2.WINDOW_NORMAL)\n",
    "cv2.imshow('Image with Contours', img)\n",
    "cv2.waitKey(0)"
   ]
  },
  {
   "cell_type": "code",
   "execution_count": null,
   "id": "7b9a94f0-aefe-4cff-af68-4f538babb7e4",
   "metadata": {},
   "outputs": [],
   "source": []
  }
 ],
 "metadata": {
  "kernelspec": {
   "display_name": "Python 3 (ipykernel)",
   "language": "python",
   "name": "python3"
  },
  "language_info": {
   "codemirror_mode": {
    "name": "ipython",
    "version": 3
   },
   "file_extension": ".py",
   "mimetype": "text/x-python",
   "name": "python",
   "nbconvert_exporter": "python",
   "pygments_lexer": "ipython3",
   "version": "3.11.8"
  }
 },
 "nbformat": 4,
 "nbformat_minor": 5
}
